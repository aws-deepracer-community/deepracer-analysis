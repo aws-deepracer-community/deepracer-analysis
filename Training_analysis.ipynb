{
 "cells": [
  {
   "cell_type": "markdown",
   "metadata": {},
   "source": [
    "# Training analysis for DeepRacer\n",
    "\n",
    "This notebook has been built based on the `DeepRacer Log Analysis.ipynb` provided by the AWS DeepRacer Team. It has been reorganised and expanded to provide new views on the training data without the helper code which was moved into utility `.py` files.\n",
    "\n",
    "## Usage\n",
    "\n",
    "I have expanded this notebook from to present how I'm using this information. It contains descriptions that you may find not that needed after initial reading. Since this file can change in the future, I recommend that you make its copy and reorganize it to your liking. This way you will not lose your changes and you'll be able to add things as you please.\n",
    "\n",
    "**This notebook isn't complete.** What I find interesting in the logs may not be what you will find interesting and useful. I recommend you get familiar with the tools and try hacking around to get the insights that suit your needs.\n",
    "\n",
    "## Contributions\n",
    "\n",
    "As usual, your ideas are very welcome and encouraged so if you have any suggestions either bring them to [the AWS DeepRacer Community](http://join.deepracing.io) or share as code contributions.\n",
    "\n",
    "## Training environments\n",
    "\n",
    "Depending on whether you're running your training through the console or using the local setup, and on which setup for local training you're using, your experience will vary. As much as I would like everything to be taylored to your configuration, there may be some problems that you may face. If so, please get in touch through [the AWS DeepRacer Community](http://join.deepracing.io).\n",
    "\n",
    "## Requirements\n",
    "\n",
    "Before you start using the notebook, you will need to install some dependencies. If you haven't yet done so, have a look at [The README.md file](/edit/README.md#running-the-notebooks) to find what you need to install.\n",
    "\n",
    "Apart from the install, you also have to configure your programmatic access to AWS. Have a look at the guides below, AWS resources will lead you by the hand:\n",
    "\n",
    "AWS CLI: https://docs.aws.amazon.com/cli/latest/userguide/cli-chap-configure.html\n",
    "\n",
    "Boto Configuration: https://boto3.amazonaws.com/v1/documentation/api/latest/guide/configuration.html\n",
    "\n",
    "## Credits\n",
    "\n",
    "I would like to thank [the AWS DeepRacer Community](http://join.deepracing.io) for all the feedback about the notebooks. If you'd like, follow [my blog](https://codelikeamother.uk) where I tend to write about my experiences with AWS DeepRacer.\n",
    "\n",
    "# Log Analysis\n",
    "\n",
    "Let's get to it.\n",
    "\n",
    "## Permissions\n",
    "\n",
    "Depending on where you are downloading the data from, you will need some permissions:\n",
    "* Access to CloudWatch log streams\n",
    "* Access to S3 bucket to reach the log files\n",
    "\n",
    "## Installs and setups\n",
    "\n",
    "If you are using an AWS SageMaker Notebook to run the log analysis, you will need to ensure you install required dependencies. To do that uncomment and run the following:"
   ]
  },
  {
   "cell_type": "code",
   "execution_count": null,
   "metadata": {},
   "outputs": [],
   "source": [
    "# Make sure you have deepracer-utils >= 0.9\n",
    "\n",
    "# import sys\n",
    "\n",
    "!{sys.executable} -m pip install --upgrade deepracer-utils"
   ]
  },
  {
   "cell_type": "markdown",
   "metadata": {},
   "source": [
    "## Imports\n",
    "\n",
    "Run the imports block below:"
   ]
  },
  {
   "cell_type": "code",
   "execution_count": null,
   "metadata": {
    "lines_to_next_cell": 2
   },
   "outputs": [],
   "source": [
    "import pandas as pd\n",
    "import matplotlib.pyplot as plt\n",
    "from pprint import pprint\n",
    "\n",
    "from deepracer.tracks import TrackIO, Track\n",
    "from deepracer.tracks.track_utils import track_breakdown, track_meta\n",
    "from deepracer.logs import \\\n",
    "    SimulationLogsIO as slio, \\\n",
    "    NewRewardUtils as nr, \\\n",
    "    AnalysisUtils as au, \\\n",
    "    PlottingUtils as pu, \\\n",
    "    ActionBreakdownUtils as abu, \\\n",
    "    DeepRacerLog\n",
    "\n",
    "# Ignore deprecation warnings we have no power over\n",
    "import warnings\n",
    "warnings.filterwarnings('ignore')"
   ]
  },
  {
   "cell_type": "markdown",
   "metadata": {},
   "source": [
    "## Get the logs\n",
    "\n",
    "Depending on which way you are training your model, you will need a slightly different way to load the data. \n",
    "\n",
    "**AWS DeepRacer Console**\n",
    "\n",
    "The logs can be downloaded from the training page. Once you download them, extract the archive into logs/[training-name] (just like logs/sample-logs)\n",
    "\n",
    "**DeepRacer for Cloud**\n",
    "    \n",
    "If you're using local training, just point at your model's root folder in the minio bucket. If you're using any of the cloudy deployments, download the model folder to local and point at it.\n",
    "\n",
    "**Deepracer for dummies/Chris Rhodes' Deepracer/ARCC Deepracer or any training solution other than the ones above, read below**\n",
    "\n",
    "This notebook has been updated to support the most recent setups. Most of the mentioned projects above are no longer compatible with AWS DeepRacer Console anyway so do consider moving to the ones actively maintained.\n",
    "    "
   ]
  },
  {
   "cell_type": "code",
   "execution_count": null,
   "metadata": {},
   "outputs": [],
   "source": [
    "model_logs_root = 'logs/c33f8e27-fd7d-440e-b849-fe6be8ed5107'\n",
    "log = DeepRacerLog(model_logs_root)\n",
    "\n",
    "# load logs into a dataframe\n",
    "log.load()\n",
    "\n",
    "try:\n",
    "    pprint(log.agent_and_network())\n",
    "    print(\"-------------\")\n",
    "    pprint(log.hyperparameters())\n",
    "    print(\"-------------\")\n",
    "    pprint(log.action_space())\n",
    "except Exception:\n",
    "    print(\"Robomaker logs not available\")\n",
    "\n",
    "df = log.dataframe()"
   ]
  },
  {
   "cell_type": "markdown",
   "metadata": {},
   "source": [
    "If the code above worked, you will see a list of details printed above: a bit about the agent and the network, a bit about the hyperparameters and some information about the action space. Now let's see what got loaded into the dataframe - the data structure holding your simulation information. the `head()` method prints out a few first lines of the data:"
   ]
  },
  {
   "cell_type": "code",
   "execution_count": null,
   "metadata": {},
   "outputs": [],
   "source": [
    "df.head()"
   ]
  },
  {
   "cell_type": "markdown",
   "metadata": {},
   "source": [
    "## Load waypoints for the track you want to run analysis on\n",
    "\n",
    "The track waypoint files represent the coordinates of characteristic points of the track - the center line, inside border and outside border. Their main purpose is to visualise the track in images below.\n",
    "\n",
    "The naming of the tracks is not super consistent. The ones that we already know have been mapped to their official names in the track_meta dictionary.\n",
    "\n",
    "Some npy files have an 'Eval' suffix. One of the challenges in the past was that the evaluation tracks were different to physical tracks and we have recreated them to enable evaluation. Remeber that evaluation npy files are a community effort to visualise the tracks in the trainings, they aren't 100% accurate.\n",
    "\n",
    "Tracks Available:"
   ]
  },
  {
   "cell_type": "code",
   "execution_count": null,
   "metadata": {},
   "outputs": [],
   "source": [
    "tu = TrackIO()\n",
    "\n",
    "for track in tu.get_tracks():\n",
    "    print(\"{} - {}\".format(track, track_meta.get(track[:-4], \"I don't know\")))"
   ]
  },
  {
   "cell_type": "markdown",
   "metadata": {},
   "source": [
    "Now let's load the track:"
   ]
  },
  {
   "cell_type": "code",
   "execution_count": null,
   "metadata": {},
   "outputs": [],
   "source": [
    "# We will try to guess the track name first, if it \n",
    "# fails, we'll use the constant in quotes\n",
    "\n",
    "try:\n",
    "    track_name = log.agent_and_network()[\"world\"]\n",
    "except Exception as e:\n",
    "    track_name = \"reinvent_base\"\n",
    "\n",
    "\n",
    "track: Track = tu.load_track(track_name)\n",
    "\n",
    "pu.plot_trackpoints(track)"
   ]
  },
  {
   "cell_type": "markdown",
   "metadata": {},
   "source": [
    "## Graphs\n",
    "\n",
    "The original notebook has provided some great ideas on what could be visualised in the graphs. Below examples are a slightly extended version. Let's have a look at what they are presenting and what this may mean to your training.\n",
    "\n",
    "### Training progress\n",
    "\n",
    "As you have possibly noticed by now, training episodes are grouped into iterations and this notebook also reflects it. What also marks it are checkpoints in the training. After each iteration a set of ckpt files is generated - they contain outcomes of the training, then a model.pb file is built based on that and the car begins a new iteration. Looking at the data grouped by iterations may lead you to a conclusion, that some earlier checkpoint would be a better start for a new training. While this is limited in the AWS DeepRacer Console, with enough disk space you can keep all the checkpoints along the way and use one of them as a start for new training (or even as a submission to a race).\n",
    "\n",
    "While the episodes in a given iteration are a mixture of decision process and random guesses, mean results per iteration may show a specific trend. Mean values are accompanied by standard deviation to show the concentration of values around the mean.\n",
    "\n",
    "#### Rewards per Iteration\n",
    "\n",
    "You can see these values as lines or dots per episode in the AWS DeepRacer console. When the reward goes up, this suggests that a car is learning and improving with regards to a given reward function. **This does not have to be a good thing.** If your reward function rewards something that harms performance, your car will learn to drive in a way that will make results worse.\n",
    "\n",
    "At first the rewards just grow if the progress achieved grows. Interesting things may happen slightly later in the training:\n",
    "\n",
    "* The reward may go flat at some level - it might mean that the car can't get any better. If you think you could still squeeze something better out of it, review the car's progress and consider updating the reward function, the action space, maybe hyperparameters, or perhaps starting over (either from scratch or from some previous checkpoint)\n",
    "* The reward may become wobbly - here you will see it as a mesh of dots zig-zagging. It can be a gradually growing zig-zag or a roughly stagnated one. This usually means the learning rate hyperparameter is too high and the car started doing actions that oscilate around some local extreme. You can lower the learning rate and hope to step closer to the extreme. Or run away from it if you don't like it\n",
    "* The reward plunges to near zero and stays roughly flat - I only had that when I messed up the hyperparameters or the reward function. Review recent changes and start training over or consider starting from scratch\n",
    "\n",
    "The Standard deviation says how close from each other the reward values per episode in a given iteration are. If your model becomes reasonably stable and worst performances become better, at some point the standard deviation may flat out or even decrease. That said, higher speeds usually mean there will be areas on track with higher risk of failure. This may bring the value of standard deviation to a higher value and regardless of whether you like it or not, you need to accept it as a part of fighting for significantly better times.\n",
    "\n",
    "#### Time per iteration\n",
    "\n",
    "I'm not sure how useful this graph is. I would worry if it looked very similar to the reward graph - this could suggest that slower laps will be getting higher rewards. But there is a better graph for spotting that below.\n",
    "\n",
    "#### Progress per Iteration\n",
    "\n",
    "This graph usually starts low and grows and at some point it will get flatter. The maximum value for progress is 100% so it cannot grow without limits. It usually shows similar initial behaviours to reward and time graphs. I usually look at it when I alter an action in training. In such cases this graph usually dips a bit and then returns or goes higher.\n",
    "\n",
    "#### Total reward per episode\n",
    "\n",
    "This graph has been taken from the orignal notebook and can show progress on certain groups of behaviours. It usually forms something like a triangle, sometimes you can see a clear line of progress that shows some new way has been first taught and then perfected.\n",
    "\n",
    "#### Mean completed lap times per iteration\n",
    "\n",
    "Once we have a model that completes laps reasonably often, we might want to know how fast the car gets around the track. This graph will show you that. I use it quite often when looking for a model to shave a couple more miliseconds. That said it has to go in pair with the last one:\n",
    "\n",
    "#### Completion rate per iteration\n",
    "\n",
    "It represents how big part of all episodes in an iteration is full laps. The value is from range [0, 1] and is a result of deviding amount of full laps in iteration by amount of all episodes in iteration. I say it has to go in pair with the previous one because you not only need a fast lapper, you also want a race completer.\n",
    "\n",
    "The higher the value, the more stable the model is on a given track."
   ]
  },
  {
   "cell_type": "code",
   "execution_count": null,
   "metadata": {
    "lines_to_next_cell": 0
   },
   "outputs": [],
   "source": [
    "simulation_agg = au.simulation_agg(df)\n",
    "\n",
    "au.analyze_training_progress(simulation_agg, title='Training progress')"
   ]
  },
  {
   "cell_type": "markdown",
   "metadata": {
    "lines_to_next_cell": 2
   },
   "source": [
    "### Stats for all laps\n",
    "\n",
    "Previous graphs were mainly focused on the state of training with regards to training progress. This however will not give you a lot of information about how well your reward function is doing overall.\n",
    "\n",
    "In such case `scatter_aggregates` may come handy. It comes with three types of graphs:\n",
    "* progress/steps/reward depending on the time of an episode - of this I find reward/time and new_reward/time especially useful to see that I am rewarding good behaviours - I expect the reward to time scatter to look roughly triangular\n",
    "* histograms of time and progress - for all episodes the progress one is usually quite handy to get an idea of model's stability\n",
    "* progress/time_if_complete/reward to closest waypoint at start - these are really useful during training as they show potentially problematic spots on track. It can turn out that a car gets best reward (and performance) starting at a point that just cannot be reached if the car starts elsewhere, or that there is a section of a track that the car struggles to get past and perhaps it's caused by an aggressive action space or undesirable behaviour prior to that place\n",
    "\n",
    "Side note: `time_if_complete` is not very accurate and will almost always look better for episodes closer to 100% progress than in case of those 50% and below."
   ]
  },
  {
   "cell_type": "code",
   "execution_count": null,
   "metadata": {},
   "outputs": [],
   "source": [
    "au.scatter_aggregates(simulation_agg, 'Stats for all laps')"
   ]
  },
  {
   "cell_type": "markdown",
   "metadata": {},
   "source": [
    "### Stats for complete laps\n",
    "The graphs here are same as above, but now I am interested in other type of information:\n",
    "* does the reward scatter show higher rewards for lower completion times? If I give higher reward for a slower lap it might suggest that I am training the car to go slow\n",
    "* what does the time histogram look like? With enough samples available the histogram takes a normal distribution graph shape. The lower the mean value, the better the chance to complete a fast lap consistently. The longer the tails, the greater the chance of getting lucky in submissions\n",
    "* is the car completing laps around the place where the race lap starts? Or does it only succeed if it starts in a place different to the racing one?"
   ]
  },
  {
   "cell_type": "code",
   "execution_count": null,
   "metadata": {},
   "outputs": [],
   "source": [
    "complete_ones = simulation_agg[simulation_agg['progress']==100]\n",
    "\n",
    "if complete_ones.shape[0] > 0:\n",
    "    au.scatter_aggregates(complete_ones, 'Stats for complete laps')\n",
    "else:\n",
    "    print('No complete laps yet.')"
   ]
  },
  {
   "cell_type": "markdown",
   "metadata": {},
   "source": [
    "### Categories analysis\n",
    "We're going back to comparing training results based on the training time, but in a different way. Instead of just scattering things in relation to iteration or episode number, this time we're grouping episodes based on a certaing information. For this we use function:\n",
    "```\n",
    "analyze_categories(panda, category='quintile', groupcount=5, title=None)\n",
    "```\n",
    "The idea is pretty simple - determine a way to cluster the data and provide that as the `category` parameter (alongside the count of groups available). In the default case we take advantage of the aggregated information to which quintile an episode belongs and thus build buckets each containing 20% of episodes which happened around the same time during the training. If your training lasted for five hours, this would show results grouped per each hour.\n",
    "\n",
    "A side note: if you run the function with `category='start_at'` and `groupcount=20` you will get results based on the waypoint closest to the starting point of an episode. If you need to, you can introduce other types of categories and reuse the function.\n",
    "\n",
    "The graphs are similar to what we've seen above. I especially like the progress one which shows where the model tends to struggle and whether it's successful laps rate is improving or beginning to decrease. Interestingly, I also had cases where I saw the completion drop on the progress rate only to improve in a later quintile, but with a better time graph.\n",
    "\n",
    "A second side note: if you run this function for `complete_ones` instead of `simulation_agg`, suddenly the time histogram becomes more interesting as you can see whether completion times improve."
   ]
  },
  {
   "cell_type": "code",
   "execution_count": null,
   "metadata": {},
   "outputs": [],
   "source": [
    "au.scatter_by_groups(simulation_agg, title='Quintiles')"
   ]
  },
  {
   "cell_type": "markdown",
   "metadata": {},
   "source": [
    "## Data in tables\n",
    "\n",
    "While a lot can be seen in graphs that cannot be seen in the raw numbers, the numbers let us get into more detail. Below you will find a couple examples. If your model is behaving the way you would like it to, below tables may provide little added value, but if you struggle to improve your car's performance, they may come handy. In such cases I look for examples where high reward is giving to below-expected episode and when good episodes are given low reward.\n",
    "\n",
    "You can then take the episode number and scatter it below, and also look at reward given per step - this can in turn draw your attention to some rewarding anomalies and help you detect some unexpected outcomes in your reward function.\n",
    "\n",
    "There is a number of ways to select the data for display:\n",
    "* `nlargest`/`nsmallest` lets you display information based on a specific value being highest or lowest\n",
    "* filtering based on a field value, for instance `df[df['episode']==10]` will display only those steps in `df` which belong to episode 10\n",
    "* `head()` lets you peek into a dataframe\n",
    "\n",
    "There isn't a right set of tables to display here and the ones below may not suit your needs. Get to know Pandas more and have fun with them. It's almost as addictive as DeepRacer itself.\n",
    "\n",
    "The examples have a short comment next to them explaining what they are showing."
   ]
  },
  {
   "cell_type": "code",
   "execution_count": null,
   "metadata": {},
   "outputs": [],
   "source": [
    "# View ten best rewarded episodes in the training\n",
    "simulation_agg.nlargest(10, 'new_reward')"
   ]
  },
  {
   "cell_type": "code",
   "execution_count": null,
   "metadata": {},
   "outputs": [],
   "source": [
    "# View five fastest complete laps\n",
    "complete_ones.nsmallest(5, 'time')"
   ]
  },
  {
   "cell_type": "code",
   "execution_count": null,
   "metadata": {},
   "outputs": [],
   "source": [
    "# View five best rewarded completed laps\n",
    "complete_ones.nlargest(5, 'reward')"
   ]
  },
  {
   "cell_type": "code",
   "execution_count": null,
   "metadata": {},
   "outputs": [],
   "source": [
    "# View five best rewarded in completed laps (according to new_reward if you are using it)\n",
    "complete_ones.nlargest(5, 'new_reward')"
   ]
  },
  {
   "cell_type": "code",
   "execution_count": null,
   "metadata": {},
   "outputs": [],
   "source": [
    "# View five most progressed episodes\n",
    "simulation_agg.nlargest(5, 'progress')"
   ]
  },
  {
   "cell_type": "code",
   "execution_count": null,
   "metadata": {},
   "outputs": [],
   "source": [
    "# View information for a couple first episodes\n",
    "simulation_agg.head()"
   ]
  },
  {
   "cell_type": "code",
   "execution_count": null,
   "metadata": {},
   "outputs": [],
   "source": [
    "# Set maximum quantity of rows to view for a dataframe display - without that\n",
    "# the view below will just hide some of the steps\n",
    "pd.set_option('display.max_rows', 500)\n",
    "\n",
    "# View all steps data for episode 10\n",
    "df[df['episode']==10]"
   ]
  },
  {
   "cell_type": "markdown",
   "metadata": {},
   "source": [
    "## Analyze the reward distribution for your reward function"
   ]
  },
  {
   "cell_type": "code",
   "execution_count": null,
   "metadata": {},
   "outputs": [],
   "source": [
    "# This shows a histogram of actions per closest waypoint for episode 889.\n",
    "# Will let you spot potentially problematic places in reward granting.\n",
    "# In this example reward function is clearly `return 1`. It may be worrying\n",
    "# if your reward function has some logic in it.\n",
    "# If you have a final step reward that makes the rest of this histogram\n",
    "# unreadable, you can filter the last step out by using\n",
    "# `episode[:-1].plot.bar` instead of `episode.plot.bar`\n",
    "episode = df[df['episode']==9]\n",
    "\n",
    "if episode.empty:\n",
    "    print(\"You probably don't have episode with this number, try a lower one.\")\n",
    "else:\n",
    "    episode.plot.bar(x='closest_waypoint', y='reward')"
   ]
  },
  {
   "cell_type": "markdown",
   "metadata": {},
   "source": [
    "### Path taken for top reward iterations\n",
    "\n",
    "NOTE: at some point in the past in a single episode the car could go around multiple laps, the episode was terminated when car completed 1000 steps. Currently one episode has at most one lap. This explains why you can see multiple laps in an episode plotted below.\n",
    "\n",
    "Being able to plot the car's route in an episode can help you detect certain patterns in its behaviours and either promote them more or train away from them. While being able to watch the car go in the training gives some information, being able to reproduce it after the training is much more practical.\n",
    "\n",
    "Graphs below give you a chance to look deeper into your car's behaviour on track.\n",
    "\n",
    "We start with plot_selected_laps. The general idea of this block is as follows:\n",
    "* Select laps(episodes) that have the properties that you care about, for instance, fastest, most progressed, failing in a certain section of the track or not failing in there,\n",
    "* Provide the list of them in a dataframe into the plot_selected_laps, together with the whole training dataframe and the track info,\n",
    "* You've got the laps to analyse."
   ]
  },
  {
   "cell_type": "code",
   "execution_count": null,
   "metadata": {
    "lines_to_next_cell": 0
   },
   "outputs": [],
   "source": [
    "# Some examples:\n",
    "# highest reward for complete laps:\n",
    "# episodes_to_plot = complete_ones.nlargest(3,'reward')\n",
    "\n",
    "# highest progress from all episodes:\n",
    "episodes_to_plot = simulation_agg.nlargest(3,'progress')\n",
    "\n",
    "pu.plot_selected_laps(episodes_to_plot, df, track)"
   ]
  },
  {
   "cell_type": "markdown",
   "metadata": {
    "lines_to_next_cell": 2
   },
   "source": [
    "### Plot a heatmap of rewards for current training. \n",
    "The brighter the colour, the higher the reward granted in given coordinates.\n",
    "If instead of a similar view as in the example below you get a dark image with hardly any \n",
    "dots, it might be that your rewards are highly disproportionate and possibly sparse.\n",
    "\n",
    "Disproportion means you may have one reward of 10.000 and the rest in range 0.01-1.\n",
    "In such cases the vast majority of dots will simply be very dark and the only bright dot\n",
    "might be in a place difficult to spot. I recommend you go back to the tables and show highest\n",
    "and average rewards per step to confirm if this is the case. Such disproportions may\n",
    "not affect your traning very negatively, but they will make the data less readable in this notebook.\n",
    "\n",
    "Sparse data means that the car gets a high reward for the best behaviour and very low reward\n",
    "for anything else, and worse even, reward is pretty much discrete (return 10 for narrow perfect,\n",
    "else return 0.1). The car relies on reward varying between behaviours to find gradients that can\n",
    "lead to improvement. If that is missing, the model will struggle to improve."
   ]
  },
  {
   "cell_type": "code",
   "execution_count": null,
   "metadata": {},
   "outputs": [],
   "source": [
    "#If you'd like some other colour criterion, you can add\n",
    "#a value_field parameter and specify a different column\n",
    "\n",
    "pu.plot_track(df, track)"
   ]
  },
  {
   "cell_type": "markdown",
   "metadata": {},
   "source": [
    "### Plot a particular iteration\n",
    "This is same as the heatmap above, but just for a single iteration."
   ]
  },
  {
   "cell_type": "code",
   "execution_count": null,
   "metadata": {},
   "outputs": [],
   "source": [
    "#If you'd like some other colour criterion, you can add\n",
    "#a value_field parameter and specify a different column\n",
    "iteration_id = 3\n",
    "\n",
    "pu.plot_track(df[df['iteration'] == iteration_id], track)"
   ]
  },
  {
   "cell_type": "markdown",
   "metadata": {},
   "source": [
    "### Path taken in a particular episode"
   ]
  },
  {
   "cell_type": "code",
   "execution_count": null,
   "metadata": {},
   "outputs": [],
   "source": [
    "episode_id = 12\n",
    "\n",
    "pu.plot_selected_laps([episode_id], df, track)"
   ]
  },
  {
   "cell_type": "markdown",
   "metadata": {},
   "source": [
    "### Path taken in a particular iteration"
   ]
  },
  {
   "cell_type": "code",
   "execution_count": null,
   "metadata": {},
   "outputs": [],
   "source": [
    "iteration_id = 10\n",
    "\n",
    "pu.plot_selected_laps([iteration_id], df, track, section_to_plot = 'iteration')"
   ]
  },
  {
   "cell_type": "markdown",
   "metadata": {},
   "source": [
    "# Action breakdown per iteration and historgram for action distribution for each of the turns - reinvent track\n",
    "\n",
    "This plot is useful to understand the actions that the model takes for any given iteration. Unfortunately at this time it is not fit for purpose as it assumes six actions in the action space and has other issues. It will require some work to get it to done but the information it returns will be very valuable.\n",
    "\n",
    "This is a bit of an attempt to abstract away from the brilliant function in the original notebook towards a more general graph that we could use. It should be treated as a work in progress. The track_breakdown could be used as a starting point for a general track information object to handle all the customisations needed in methods of this notebook.\n",
    "\n",
    "A breakdown track data needs to be available for it. If you cannot find it for the desired track, MAKEIT.\n",
    "\n",
    "Currently supported tracks:"
   ]
  },
  {
   "cell_type": "code",
   "execution_count": null,
   "metadata": {},
   "outputs": [],
   "source": [
    "track_breakdown.keys()"
   ]
  },
  {
   "cell_type": "markdown",
   "metadata": {},
   "source": [
    "You can replace episode_ids with iteration_ids and make a breakdown for a whole iteration.\n",
    "\n",
    "**Note: does not work for continuous action space (yet).** "
   ]
  },
  {
   "cell_type": "code",
   "execution_count": null,
   "metadata": {},
   "outputs": [],
   "source": [
    "abu.action_breakdown(df, track, track_breakdown=track_breakdown.get('reinvent2018'), episode_ids=[12])"
   ]
  },
  {
   "cell_type": "code",
   "execution_count": null,
   "metadata": {},
   "outputs": [],
   "source": []
  },
  {
   "cell_type": "code",
   "execution_count": null,
   "metadata": {},
   "outputs": [],
   "source": []
  },
  {
   "cell_type": "code",
   "execution_count": null,
   "metadata": {},
   "outputs": [],
   "source": []
  }
 ],
 "metadata": {
  "jupytext": {
   "formats": "ipynb,py:light"
  },
  "kernelspec": {
   "display_name": "Python 3 (ipykernel)",
   "language": "python",
   "name": "python3"
  },
  "language_info": {
   "codemirror_mode": {
    "name": "ipython",
    "version": 3
   },
   "file_extension": ".py",
   "mimetype": "text/x-python",
   "name": "python",
   "nbconvert_exporter": "python",
   "pygments_lexer": "ipython3",
   "version": "3.7.12"
  }
 },
 "nbformat": 4,
 "nbformat_minor": 4
}
