{
 "cells": [
  {
   "cell_type": "markdown",
   "metadata": {},
   "source": [
    "# Visual Analysis\n",
    "\n",
    "This notebook has been created to support two main purposes:\n",
    "* Based on an input image and a set of models, display the action-space probability distribution.\n",
    "* Based on an input image and a set of models, visualize which parts of the image the model looks at.\n",
    "\n",
    "## Usage\n",
    "\n",
    "The workbook requires the following:\n",
    "* A set of raw images captured from the front camera of the car\n",
    "* One or more static model files (`model_*.pb`)\n",
    "* The `model_metadata.json`\n",
    "\n",
    "## Contributions\n",
    "\n",
    "As usual, your ideas are very welcome and encouraged so if you have any suggestions either bring them to [the AWS DeepRacer Community](http://join.deepracing.io) or share as code contributions.\n",
    "\n",
    "## Requirements\n",
    "\n",
    "Before you start using the notebook, you will need to install some dependencies. If you haven't yet done so, have a look at [The README.md file](/edit/README.md#running-the-notebooks) to find what you need to install.\n",
    "\n",
    "This workbook will require `tensorflow` and `cv2` to work.\n",
    "\n",
    "## Imports\n",
    "\n",
    "Run the imports block below:"
   ]
  },
  {
   "cell_type": "code",
   "execution_count": null,
   "metadata": {
    "tags": []
   },
   "outputs": [],
   "source": [
    "import json\n",
    "import os\n",
    "import glob\n",
    "\n",
    "import numpy as np\n",
    "import pandas as pd\n",
    "import matplotlib.pyplot as plt\n",
    "\n",
    "import cv2\n",
    "\n",
    "import tensorflow as tf\n",
    "from tensorflow.io.gfile import GFile\n",
    "\n",
    "from deepracer.model import load_session, visualize_gradcam_discrete_ppo, rgb2gray"
   ]
  },
  {
   "cell_type": "markdown",
   "metadata": {},
   "source": [
    "## Configure and load files\n",
    "\n",
    "Provide the paths where the image and models are stored. Also define which iterations you would like to review."
   ]
  },
  {
   "cell_type": "code",
   "execution_count": null,
   "metadata": {},
   "outputs": [],
   "source": [
    "img_selection = 'logs/sample-model/pictures/*.png'\n",
    "model_path = 'logs/sample-model/model'\n",
    "iterations = [15, 30, 48]"
   ]
  },
  {
   "cell_type": "markdown",
   "metadata": {},
   "source": [
    "Load the model metadata in, and define which sensor is in use."
   ]
  },
  {
   "cell_type": "code",
   "execution_count": null,
   "metadata": {},
   "outputs": [],
   "source": [
    "with open(\"{}/model_metadata.json\".format(model_path),\"r\") as jsonin:\n",
    "    model_metadata=json.load(jsonin)\n",
    "my_sensor = [sensor for sensor in model_metadata['sensor'] if sensor != \"LIDAR\"][0]\n",
    "display(model_metadata)"
   ]
  },
  {
   "cell_type": "markdown",
   "metadata": {},
   "source": [
    "Load in the pictures from the pre-defined path."
   ]
  },
  {
   "cell_type": "code",
   "execution_count": null,
   "metadata": {},
   "outputs": [],
   "source": [
    "picture_files = sorted(glob.glob(img_selection))\n",
    "display(picture_files)"
   ]
  },
  {
   "cell_type": "code",
   "execution_count": null,
   "metadata": {},
   "outputs": [],
   "source": [
    "action_names = []\n",
    "degree_sign= u'\\N{DEGREE SIGN}'\n",
    "for action in model_metadata['action_space']:\n",
    "    action_names.append(str(action['steering_angle'])+ degree_sign + \" \"+\"%.1f\"%action[\"speed\"])\n",
    "display(action_names)"
   ]
  },
  {
   "cell_type": "markdown",
   "metadata": {},
   "source": [
    "## Load the model files and process pictures\n",
    "We will now load in the models and process the pictures. Output is a nested list with size `n` models as the outer and `m` picture as the inner list. The inner list will contain a number of values equal to the "
   ]
  },
  {
   "cell_type": "code",
   "execution_count": null,
   "metadata": {},
   "outputs": [],
   "source": [
    "model_inference = []\n",
    "models_file_path = []\n",
    "\n",
    "for n in iterations:\n",
    "    models_file_path.append(\"{}/model_{}.pb\".format(model_path,n))\n",
    "display(models_file_path)\n",
    "\n",
    "for model_file in models_file_path:\n",
    "    model, obs, model_out = load_session(model_file, my_sensor)\n",
    "    arr = []\n",
    "    for f in picture_files[:]:\n",
    "        img = cv2.imread(f)\n",
    "        img = cv2.resize(img, dsize=(160, 120), interpolation=cv2.INTER_CUBIC)\n",
    "        img_arr = np.array(img)\n",
    "        img_arr = rgb2gray(img_arr)\n",
    "        img_arr = np.expand_dims(img_arr, axis=2)\n",
    "        current_state = {\"observation\": img_arr} #(1, 120, 160, 1)\n",
    "        y_output = model.run(model_out, feed_dict={obs:[img_arr]})[0]\n",
    "        arr.append (y_output)\n",
    "        \n",
    "    model_inference.append(arr)\n",
    "    model.close()\n",
    "    tf.reset_default_graph()"
   ]
  },
  {
   "cell_type": "markdown",
   "metadata": {},
   "source": [
    "## Simulation Image Analysis - Probability distribution on decisions (actions)\n",
    "\n",
    "We will now show the probabilities per action for the selected picture and iterations. The higher the probability of one single action the more mature is the model. Comparing different models enables the developer to see how the model is becoming more certain over time."
   ]
  },
  {
   "cell_type": "code",
   "execution_count": null,
   "metadata": {
    "tags": []
   },
   "outputs": [],
   "source": [
    "PICTURE_INDEX=1\n",
    "display(picture_files[PICTURE_INDEX])"
   ]
  },
  {
   "cell_type": "code",
   "execution_count": null,
   "metadata": {},
   "outputs": [],
   "source": [
    "x = list(range(1,len(action_names)+1))\n",
    "\n",
    "num_plots = len(iterations)\n",
    "fig, ax = plt.subplots(num_plots,1,figsize=(20,3*num_plots),sharex=True,squeeze=False)\n",
    "\n",
    "for p in range(0, num_plots):\n",
    "    ax[p][0].bar(x,model_inference[p][PICTURE_INDEX][::-1])\n",
    "    plt.setp(ax[p, 0], ylabel=os.path.basename(models_file_path[p]))\n",
    "    \n",
    "plt.xticks(x,action_names[::-1],rotation='vertical')\n",
    "plt.show()"
   ]
  },
  {
   "cell_type": "markdown",
   "metadata": {},
   "source": [
    "## What is the model looking at?\n",
    "\n",
    "Gradcam: visual heatmap of where the model is looking to make its decisions. based on https://arxiv.org/pdf/1610.02391.pdf"
   ]
  },
  {
   "cell_type": "code",
   "execution_count": null,
   "metadata": {},
   "outputs": [],
   "source": [
    "heatmaps = []\n",
    "view_models = models_file_path[1:3]\n",
    "\n",
    "for model_file in view_models:\n",
    "    model, obs, model_out = load_session(model_file, my_sensor)\n",
    "    arr = []\n",
    "    for f in picture_files:\n",
    "        img = cv2.imread(f)\n",
    "        img = cv2.resize(img, dsize=(160, 120), interpolation=cv2.INTER_CUBIC)\n",
    "        heatmap = visualize_gradcam_discrete_ppo(model, img, category_index=0, num_of_actions=len(action_names))\n",
    "        heatmaps.append(heatmap)    \n",
    "\n",
    "    tf.reset_default_graph()"
   ]
  },
  {
   "cell_type": "code",
   "execution_count": null,
   "metadata": {
    "lines_to_next_cell": 0
   },
   "outputs": [],
   "source": [
    "fig, ax = plt.subplots(len(view_models),len(picture_files),\n",
    "                       figsize=(7*len(view_models),2.5*len(picture_files)), sharex=True, sharey=True, squeeze=False)\n",
    "\n",
    "for i in list(range(len(view_models))):\n",
    "    plt.setp(ax[i, 0], ylabel=os.path.basename(view_models[i]))\n",
    "    for j in list(range(len(picture_files))):\n",
    "        ax[i][j].imshow(heatmaps[i * len(picture_files) + j])\n",
    "        plt.setp(ax[-1:, j], xlabel=os.path.basename(picture_files[j]))\n",
    "       \n",
    "plt.show()"
   ]
  },
  {
   "cell_type": "code",
   "execution_count": null,
   "metadata": {
    "lines_to_next_cell": 2
   },
   "outputs": [],
   "source": []
  }
 ],
 "metadata": {
  "jupytext": {
   "formats": "ipynb,py:light"
  },
  "kernelspec": {
   "display_name": "Python 3 (ipykernel)",
   "language": "python",
   "name": "python3"
  },
  "language_info": {
   "codemirror_mode": {
    "name": "ipython",
    "version": 3
   },
   "file_extension": ".py",
   "mimetype": "text/x-python",
   "name": "python",
   "nbconvert_exporter": "python",
   "pygments_lexer": "ipython3",
   "version": "3.7.12"
  }
 },
 "nbformat": 4,
 "nbformat_minor": 4
}
